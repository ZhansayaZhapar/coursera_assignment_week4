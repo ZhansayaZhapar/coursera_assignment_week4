{
 "cells": [
  {
   "cell_type": "markdown",
   "metadata": {},
   "source": [
    "## CAPSTONE PROJECT ASSIGNMENT"
   ]
  },
  {
   "cell_type": "markdown",
   "metadata": {},
   "source": [
    "### Applied Data Science Capstone Project by Zhansaya Zhapar"
   ]
  },
  {
   "cell_type": "markdown",
   "metadata": {},
   "source": [
    "## Introduction: Business Problem <a name=\"introduction\"></a>\n",
    "\n",
    "Every traveler knows how frustrating could be searching a place or even choosing neighborhood to live while visiting other cities and countries. And among those travelers there is a certain amount of people that prefer staying in apartment (private or shared) instead of using hotels. For example, there are many freelance workers that regularly travel around the world. However, their criteria for choosing a place to live differ from common touristic criteria. Therefore, I have decided to focus on people that plan to live a couple of months in New York and choose for that purpose the most suitable neighbourhood.\n",
    "\n",
    "This project aims to explore New York city for clustering its neighbourhoods in Brooklyn based on criteria of travelers that would like to rent an apartment for a long stay.\n",
    "\n",
    "To find such places people from all over the world use one of the most popular online marketplace services for arranging or offering lodging (primarily homestays, or tourism experiences) known as Airbnb. However, if we consider big cities like New York, we could imagine very huge amount of offers that Airbnb provides to a user.\n",
    "\n",
    "This project is targeted to provide people traveling to New York convenient and user-oriented experience and, therefore, develop recommender systems of Airbnb. Nowadays such systems are the most effective ways to increase profits and help customers get best experiences at the same time. \n",
    "\n",
    "To find the optimal neighbourhood that could be interesting to a specific user, I would like to use the following priority list: \n",
    "\n",
    "1. **Number of outdoor and recreation venues nearby**\n",
    "2. **Number of grocery shops nearby**\n",
    "3. **Number of public transport spots nearby**\n",
    "4. **Price**\n",
    "5. **Number of reviews**\n",
    "\n",
    "I believe that aforementioned factors are very important when you decide to live in a certain area for a while.\n",
    "However, every user can rate these factors in different ways. For example, someone considers number of reviews as the most important priority, followed by proximity to sports and outdoor venues, availability of public transport and price in the end. However, other people would make their own preferences, where price would be in the first place.\n",
    "\n",
    "I will try to use maximum of learned data science tools and techniques to properly cluster and recommend the user best options for their stay in NY based on the available data. \n",
    "\n",
    "In this project I will explore neighbourhoods in Brooklyn. "
   ]
  }
 ],
 "metadata": {
  "kernelspec": {
   "display_name": "Python",
   "language": "python",
   "name": "conda-env-python-py"
  },
  "language_info": {
   "codemirror_mode": {
    "name": "ipython",
    "version": 3
   },
   "file_extension": ".py",
   "mimetype": "text/x-python",
   "name": "python",
   "nbconvert_exporter": "python",
   "pygments_lexer": "ipython3",
   "version": "3.6.7"
  }
 },
 "nbformat": 4,
 "nbformat_minor": 4
}
